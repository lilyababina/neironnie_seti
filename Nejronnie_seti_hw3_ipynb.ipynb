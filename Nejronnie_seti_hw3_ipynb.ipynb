{
  "nbformat": 4,
  "nbformat_minor": 0,
  "metadata": {
    "colab": {
      "name": "Nejronnie_seti_hw3.ipynb\"",
      "provenance": [],
      "collapsed_sections": []
    },
    "kernelspec": {
      "display_name": "Python 3",
      "language": "python",
      "name": "python3"
    },
    "language_info": {
      "codemirror_mode": {
        "name": "ipython",
        "version": 3
      },
      "file_extension": ".py",
      "mimetype": "text/x-python",
      "name": "python",
      "nbconvert_exporter": "python",
      "pygments_lexer": "ipython3",
      "version": "3.7.6"
    },
    "accelerator": "GPU"
  },
  "cells": [
    {
      "cell_type": "markdown",
      "metadata": {
        "id": "j9uRd98UFzPL"
      },
      "source": [
        "# Введение в искусственные нейронные сети\n",
        "# Урок 3. TensorFlow"
      ]
    },
    {
      "cell_type": "code",
      "metadata": {
        "id": "A4Hcl_IoHv7n"
      },
      "source": [
        "!pip install --upgrade pip\n",
        "!pip install tensorflow\n",
        "!pip install tf-nightly"
      ],
      "execution_count": null,
      "outputs": []
    },
    {
      "cell_type": "code",
      "metadata": {
        "id": "ozb2tTqNIBzX"
      },
      "source": [
        "from tensorflow.keras.models import Sequential\n",
        "from tensorflow.keras.layers import Dense\n",
        "from tensorflow.keras.utils import to_categorical\n",
        "import matplotlib.pyplot as plt\n",
        "from tensorflow.keras.losses import MeanSquaredError\n",
        "from tensorflow.keras.metrics import MeanAbsolutePercentageError\n",
        "from sklearn.datasets import load_boston\n",
        "from sklearn.model_selection import train_test_split\n",
        "from sklearn.preprocessing import normalize \n",
        "from sklearn.metrics import mean_squared_error\n",
        "from tensorflow.keras.optimizers import Adam, SGD, RMSprop, Adagrad"
      ],
      "execution_count": 4,
      "outputs": []
    },
    {
      "cell_type": "code",
      "metadata": {
        "colab": {
          "base_uri": "https://localhost:8080/"
        },
        "id": "z4n5BPbJGKJZ",
        "outputId": "c5b0f4f9-6306-4252-a9b4-da6dab446e53"
      },
      "source": [
        "X, y = load_boston(return_X_y=True)\n",
        "print(X.shape)"
      ],
      "execution_count": 5,
      "outputs": [
        {
          "output_type": "stream",
          "text": [
            "(506, 13)\n"
          ],
          "name": "stdout"
        }
      ]
    },
    {
      "cell_type": "code",
      "metadata": {
        "id": "C9B1cHtnGmEM"
      },
      "source": [
        "X_train, X_test, y_train, y_test = train_test_split(X, y, test_size=0.2, random_state=42)"
      ],
      "execution_count": 6,
      "outputs": []
    },
    {
      "cell_type": "code",
      "metadata": {
        "id": "PIIwUIB_GWzd",
        "colab": {
          "base_uri": "https://localhost:8080/"
        },
        "outputId": "c191d45f-5770-44c5-df51-29f1b48bd6db"
      },
      "source": [
        "model = Sequential([\n",
        "    Dense(100, activation='relu', input_shape=(13,)),\n",
        "    Dense(100, activation='relu'),\n",
        "    Dense(100, activation='relu'),\n",
        "    Dense(1)])\n",
        "model.compile(optimizer='adam', loss='mse', metrics=['mse'])\n",
        "model.summary()"
      ],
      "execution_count": null,
      "outputs": [
        {
          "output_type": "stream",
          "text": [
            "Model: \"sequential_7\"\n",
            "_________________________________________________________________\n",
            "Layer (type)                 Output Shape              Param #   \n",
            "=================================================================\n",
            "dense_28 (Dense)             (None, 100)               1400      \n",
            "_________________________________________________________________\n",
            "dense_29 (Dense)             (None, 100)               10100     \n",
            "_________________________________________________________________\n",
            "dense_30 (Dense)             (None, 100)               10100     \n",
            "_________________________________________________________________\n",
            "dense_31 (Dense)             (None, 1)                 101       \n",
            "=================================================================\n",
            "Total params: 21,701\n",
            "Trainable params: 21,701\n",
            "Non-trainable params: 0\n",
            "_________________________________________________________________\n"
          ],
          "name": "stdout"
        }
      ]
    },
    {
      "cell_type": "code",
      "metadata": {
        "id": "UmAqbArVIkl9"
      },
      "source": [
        "history = model.fit( X_train, y_train, epochs=50, batch_size=2, validation_split=0.2)"
      ],
      "execution_count": null,
      "outputs": []
    },
    {
      "cell_type": "code",
      "metadata": {
        "id": "8RzpMwruRFdS",
        "colab": {
          "base_uri": "https://localhost:8080/",
          "height": 295
        },
        "outputId": "24e8c4ef-149b-4c5b-f387-549773b05558"
      },
      "source": [
        "plt.plot(history.history['val_mse'] ,label='val')\n",
        "plt.plot(history.history['mse'] ,label='train')\n",
        "plt.legend()\n",
        "plt.xlabel('epoch')\n",
        "plt.ylabel('accuracy')\n",
        "plt.title('точность сети от эпох')\n",
        "plt.show()"
      ],
      "execution_count": null,
      "outputs": [
        {
          "output_type": "display_data",
          "data": {
            "image/png": "[encoded data removed]",
            "text/plain": [
              "<Figure size 432x288 with 1 Axes>"
            ]
          },
          "metadata": {
            "tags": [],
            "needs_background": "light"
          }
        }
      ]
    },
    {
      "cell_type": "code",
      "metadata": {
        "id": "N0NFOSg8Q2CG"
      },
      "source": [
        "test_predictions = model.predict(X_test)"
      ],
      "execution_count": null,
      "outputs": []
    },
    {
      "cell_type": "code",
      "metadata": {
        "colab": {
          "base_uri": "https://localhost:8080/"
        },
        "id": "iuMnbf8RSssO",
        "outputId": "f48d0483-68cc-4e76-874f-74798fe56a31"
      },
      "source": [
        "mean_squared_error(y_test, test_predictions)"
      ],
      "execution_count": null,
      "outputs": [
        {
          "output_type": "execute_result",
          "data": {
            "text/plain": [
              "35.877093376276235"
            ]
          },
          "metadata": {
            "tags": []
          },
          "execution_count": 39
        }
      ]
    },
    {
      "cell_type": "markdown",
      "metadata": {
        "id": "H_mMOYD825dI"
      },
      "source": [
        "Нормализуем данные"
      ]
    },
    {
      "cell_type": "code",
      "metadata": {
        "id": "Kyqm1drpw6yt"
      },
      "source": [
        " X_norm = normalize(X, axis=0, )\n",
        " X_train_n, X_test_n, y_train, y_test = train_test_split(X_norm, y, test_size=0.2, random_state=42)"
      ],
      "execution_count": 7,
      "outputs": []
    },
    {
      "cell_type": "code",
      "metadata": {
        "id": "sjLbZl4y0fDx"
      },
      "source": [
        "model1 = Sequential([\n",
        "    Dense(100, activation='relu', input_shape=(13,)),\n",
        "    Dense(100, activation='relu'),\n",
        "    Dense(100, activation='relu'),\n",
        "    Dense(1)])\n",
        "model1.compile(optimizer='adam', loss='mse', metrics=['mse'])"
      ],
      "execution_count": null,
      "outputs": []
    },
    {
      "cell_type": "code",
      "metadata": {
        "id": "S4hGKoNp0fQZ"
      },
      "source": [
        "history1 = model1.fit( X_train_n, y_train, epochs=50, batch_size=2, validation_split=0.2)"
      ],
      "execution_count": null,
      "outputs": []
    },
    {
      "cell_type": "code",
      "metadata": {
        "colab": {
          "base_uri": "https://localhost:8080/",
          "height": 295
        },
        "id": "bkkPLgVz0feT",
        "outputId": "9c270ae2-aa7b-4b7d-842a-7d830186fdc5"
      },
      "source": [
        "plt.plot(history1.history['val_mse'] ,label='val')\n",
        "plt.plot(history1.history['mse'] ,label='train')\n",
        "plt.legend()\n",
        "plt.xlabel('epoch')\n",
        "plt.ylabel('accuracy')\n",
        "plt.title('точность сети от эпох')\n",
        "plt.show()"
      ],
      "execution_count": null,
      "outputs": [
        {
          "output_type": "display_data",
          "data": {
            "image/png": "[encoded data removed]",
            "text/plain": [
              "<Figure size 432x288 with 1 Axes>"
            ]
          },
          "metadata": {
            "tags": [],
            "needs_background": "light"
          }
        }
      ]
    },
    {
      "cell_type": "code",
      "metadata": {
        "colab": {
          "base_uri": "https://localhost:8080/"
        },
        "id": "lwGua9CRTsKz",
        "outputId": "a905c350-e751-4d36-c8df-d8cdbfd84b7d"
      },
      "source": [
        "test_predictions1 = model1.predict(X_test_n)\n",
        "mean_squared_error(y_test, test_predictions1)"
      ],
      "execution_count": null,
      "outputs": [
        {
          "output_type": "execute_result",
          "data": {
            "text/plain": [
              "23.602508843526657"
            ]
          },
          "metadata": {
            "tags": []
          },
          "execution_count": 33
        }
      ]
    },
    {
      "cell_type": "markdown",
      "metadata": {
        "id": "qqI5qVQn1Ryj"
      },
      "source": [
        "Первая модель была построена без нормализации данных, вторая с нормализацией\n",
        "\n",
        "По результатам видим, что у второй модели меньше колебаний метрики на валидационной выборке"
      ]
    },
    {
      "cell_type": "markdown",
      "metadata": {
        "id": "1-ktulXqVP1q"
      },
      "source": [
        "#Постройте нейронную сеть(берем простую линейную сеть, которую разбирали на уроке: меняем число слоев, число нейронов , типы активации, тип оптимизатора) на датасет from sklearn.datasets import load_boston (или Fashion_Mnist).\n"
      ]
    },
    {
      "cell_type": "code",
      "metadata": {
        "id": "W4R0s32p0fsJ"
      },
      "source": [
        "X_train, X_test, y_train, y_test = train_test_split(X_norm, y, test_size=0.2, random_state=42)"
      ],
      "execution_count": 8,
      "outputs": []
    },
    {
      "cell_type": "code",
      "metadata": {
        "id": "2Zm-TPIKO-Y_"
      },
      "source": [
        "model2 = Sequential([\n",
        "    Dense(100, activation='relu', input_shape=(13,)),\n",
        "    Dense(100, activation='relu'),\n",
        "    Dense(100, activation='relu'),\n",
        "    Dense(1)])\n",
        "model2.compile(optimizer='adam', loss='mse', metrics=['mse'])\n",
        "history2 = model2.fit( X_train_n, y_train, epochs=50, batch_size=10, validation_split=0.2)"
      ],
      "execution_count": null,
      "outputs": []
    },
    {
      "cell_type": "code",
      "metadata": {
        "colab": {
          "base_uri": "https://localhost:8080/",
          "height": 295
        },
        "id": "jex-LTL5VygT",
        "outputId": "e14d3401-4bc0-43d6-b255-740a8a1bc8f6"
      },
      "source": [
        "plt.plot(history2.history['val_mse'] ,label='val')\n",
        "plt.plot(history2.history['mse'] ,label='train')\n",
        "plt.legend()\n",
        "plt.xlabel('epoch')\n",
        "plt.ylabel('accuracy')\n",
        "plt.title('точность сети от эпох')\n",
        "plt.show()"
      ],
      "execution_count": null,
      "outputs": [
        {
          "output_type": "display_data",
          "data": {
            "image/png": "[encoded data removed]",
            "text/plain": [
              "<Figure size 432x288 with 1 Axes>"
            ]
          },
          "metadata": {
            "tags": [],
            "needs_background": "light"
          }
        }
      ]
    },
    {
      "cell_type": "code",
      "metadata": {
        "colab": {
          "base_uri": "https://localhost:8080/"
        },
        "id": "RO1S9I3ZV0Xo",
        "outputId": "94ff0d85-b592-4264-bca1-c940829a5fca"
      },
      "source": [
        "test_predictions2 = model2.predict(X_test_n)\n",
        "mean_squared_error(y_test, test_predictions2)"
      ],
      "execution_count": null,
      "outputs": [
        {
          "output_type": "execute_result",
          "data": {
            "text/plain": [
              "20.948625203798116"
            ]
          },
          "metadata": {
            "tags": []
          },
          "execution_count": 44
        }
      ]
    },
    {
      "cell_type": "code",
      "metadata": {
        "id": "S_B4upXOWVt8"
      },
      "source": [
        "#batch_size=2 mse 16.0397\n",
        "#batch_size=4 mse 17.68\n",
        "#batch_size=5 mse 18.62\n",
        "#batch_size=6 mse 17.7986\n",
        "#batch_size=8 mse 19.73\n",
        "#batch_size=10 mse 20.95\n",
        "#batch_size=20 mse 22.61\n",
        "#batch_size=30 mse 30.92\n",
        "#batch_size=40 mse 32.624\n",
        "#batch_size=60 mse 39.11\n",
        "#Несколько раз на каждое количество batch обучила модель - получила результаты выше(значение метрики плюс минус)\n",
        "#Так как данных не так много, то будем следующие модели обучать при batch_size=5"
      ],
      "execution_count": null,
      "outputs": []
    },
    {
      "cell_type": "markdown",
      "metadata": {
        "id": "8uSxa9LUdKAP"
      },
      "source": [
        "Посмторим как влияет количество слоев и нейронов в слое"
      ]
    },
    {
      "cell_type": "code",
      "metadata": {
        "id": "iv-JFJ86dJUa"
      },
      "source": [
        "#model3 = Sequential([Dense(100, activation='relu', input_shape=(13,)), Dense(100, activation='relu'), Dense(1)]) \n",
        "  #mse 21.949 , 24.29, 22.304\n",
        "#model3 = Sequential([Dense(50, activation='relu', input_shape=(13,)), Dense(50, activation='relu'), Dense(1)])\n",
        "  #  mse 26.263, 27.68, 27.1583\n",
        "#model3 = Sequential([Dense(30, activation='relu', input_shape=(13,)), Dense(30, activation='relu'), Dense(1)])\n",
        "  #35.5329\n",
        "#model3 = Sequential([Dense(150, activation='relu', input_shape=(13,)), Dense(150, activation='relu'), Dense(1)])\n",
        "  #mse 21.120, 20.282, 20.31\n",
        "\n",
        "#model3 = Sequential([Dense(170, activation='relu', input_shape=(13,)), Dense(170, activation='relu'), Dense(1)])\n",
        "  #mse 20.392, 19.10, 21.884\n",
        "#model3 = Sequential([Dense(200, activation='relu', input_shape=(13,)), Dense(200, activation='relu'), Dense(1)])\n",
        "  #mse 19.48, 19.76, 19.958\n",
        "#model3 = Sequential([Dense(300, activation='relu', input_shape=(13,)), Dense(300, activation='relu'), Dense(1)])\n",
        "  #mse 18.164, 17.742, 19.4619\n",
        "#model3 = Sequential([Dense(500, activation='relu', input_shape=(13,)), Dense(500, activation='relu'), Dense(1)])\n",
        "  #mse 17.3, 19.34\n",
        "#model3 = Sequential([Dense(1000, activation='relu', input_shape=(13,)), Dense(1000, activation='relu'), Dense(1)])\n",
        "  #mse 16.227, 15.90, 18.42\n",
        "\n",
        "#model3 = Sequential([Dense(1000, activation='relu', input_shape=(13,)),Dense(1000, activation='relu'),Dense(1000, activation='relu'),Dense(1000, activation='relu'),Dense(1)])\n",
        "  #mse 18.15, 16.76, 24.02 -  очень большие колебания ошибки как трейн так и вал\n",
        "#model3 = Sequential([Dense(500, activation='relu', input_shape=(13,)),Dense(500, activation='relu'),Dense(500, activation='relu'),Dense(500, activation='relu'),Dense(1)])\n",
        "  #mse 16.552, 19.238, 16.43 тоже большие колебания ошибок\n",
        "#model3 = Sequential([Dense(300, activation='relu', input_shape=(13,)),Dense(300, activation='relu'),Dense(300, activation='relu'),Dense(300, activation='relu'),Dense(1)])\n",
        "  #mse 14.156, 15.5, 22.0715\n",
        "#model3 = Sequential([Dense(200, activation='relu', input_shape=(13,)),Dense(200, activation='relu'),Dense(200, activation='relu'),Dense(200, activation='relu'),Dense(1)])\n",
        "  #mse 14.45, 19.21, 17.73\n",
        "#model3 = Sequential([Dense(170, activation='relu', input_shape=(13,)),Dense(170, activation='relu'),Dense(170, activation='relu'),Dense(170, activation='relu'),Dense(1)])\n",
        "  #mse 22.9577\n",
        "\n",
        "#model3 = Sequential([Dense(100, activation='relu', input_shape=(13,)),Dense(100, activation='relu'),Dense(100, activation='relu'),Dense(100, activation='relu'),Dense(1)])\n",
        " \n",
        "  #mse 16.60\n",
        "\n",
        "#Вывод - с 4 слоями даже при уменьшении количества нейронов в слое на графике видим что значение метрики \"скачет\", значит надо брать более простую модель"
      ],
      "execution_count": null,
      "outputs": []
    },
    {
      "cell_type": "code",
      "metadata": {
        "id": "W1lgy1eIj7Lz"
      },
      "source": [
        "#model3 = Sequential([Dense(10, activation='relu', input_shape=(13,)),Dense(10, activation='relu'),Dense(10, activation='relu'),Dense(1)])\n",
        "  #mse 35.71\n",
        "#model3 = Sequential([Dense(30, activation='relu', input_shape=(13,)),Dense(30, activation='relu'),Dense(30, activation='relu'),Dense(1)])\n",
        "  #mse 20.836, 26.9\n",
        "#model3 = Sequential([Dense(50, activation='relu', input_shape=(13,)),Dense(50, activation='relu'),Dense(50, activation='relu'),Dense(1)])\n",
        "  #mse 19.24\n",
        "#model3 = Sequential([Dense(70, activation='relu', input_shape=(13,)),Dense(70, activation='relu'),Dense(70, activation='relu'),Dense(1)])\n",
        "  #mse 18.23, 20.226\n",
        "#model3 = Sequential([Dense(150, activation='relu', input_shape=(13,)),Dense(150, activation='relu'),Dense(150, activation='relu'),Dense(1)])\n",
        "  #mse 17.47, 18.882, 26.26"
      ],
      "execution_count": null,
      "outputs": []
    },
    {
      "cell_type": "code",
      "metadata": {
        "id": "zSrmAkqvnfJY"
      },
      "source": [
        "#При использовании activation='linear' ошибка не была меньше 26 даже при использовании 2 слоев и разного количества нейронов(логировать не стала)\n",
        "\n",
        "#(optimizer='sgd') - сильно хуже"
      ],
      "execution_count": null,
      "outputs": []
    },
    {
      "cell_type": "code",
      "metadata": {
        "id": "m-In05oql_y2"
      },
      "source": [
        "#последняя лучшая модель- изменить батч на 2\n",
        "#model3 = Sequential([\n",
        " #   Dense(300, activation='relu', input_shape=(13,)),\n",
        " #   Dense(300, activation='relu'),\n",
        " #   Dense(1)])\n",
        "#model3.compile(optimizer='adam', loss='mse', metrics=['mse'])\n",
        "#history3 = model3.fit( X_train_n, y_train, epochs=50, batch_size=5, validation_split=0.2)\n",
        "18.49\n",
        "\n",
        "#optima RMSprop 18.39, 18.87, 19.13970 - приближается но все таки хуже\n",
        "# Adagrad - сильно хуже обучается за 300 эпох только для ошибки 31"
      ],
      "execution_count": null,
      "outputs": []
    },
    {
      "cell_type": "code",
      "metadata": {
        "id": "XLPy7DOwV0lt"
      },
      "source": [
        "model3 = Sequential([\n",
        "    Dense(300, activation='relu', input_shape=(13,)),\n",
        "    Dense(300, activation='relu'),\n",
        "    Dense(1)])\n",
        "model3.compile(optimizer='adam', loss='mse', metrics=['mse'])\n",
        "history3 = model3.fit( X_train_n, y_train, epochs=50, batch_size=2, validation_split=0.2)"
      ],
      "execution_count": null,
      "outputs": []
    },
    {
      "cell_type": "code",
      "metadata": {
        "colab": {
          "base_uri": "https://localhost:8080/",
          "height": 295
        },
        "id": "YMsFwfAdWVWB",
        "outputId": "08813337-a6f8-4711-ac26-ca322d92af6f"
      },
      "source": [
        "plt.plot(history3.history['val_mse'] ,label='val')\n",
        "plt.plot(history3.history['mse'] ,label='train')\n",
        "plt.legend()\n",
        "plt.xlabel('epoch')\n",
        "plt.ylabel('accuracy')\n",
        "plt.title('точность сети от эпох')\n",
        "plt.show()"
      ],
      "execution_count": null,
      "outputs": [
        {
          "output_type": "display_data",
          "data": {
            "image/png": "[encoded data removed]",
            "text/plain": [
              "<Figure size 432x288 with 1 Axes>"
            ]
          },
          "metadata": {
            "tags": [],
            "needs_background": "light"
          }
        }
      ]
    },
    {
      "cell_type": "code",
      "metadata": {
        "colab": {
          "base_uri": "https://localhost:8080/"
        },
        "id": "EMieSFdPWySi",
        "outputId": "10211a49-b971-4ba2-9493-acd60c1c72cb"
      },
      "source": [
        "test_predictions3 = model3.predict(X_test_n)\n",
        "mean_squared_error(y_test, test_predictions3)"
      ],
      "execution_count": null,
      "outputs": [
        {
          "output_type": "execute_result",
          "data": {
            "text/plain": [
              "16.78927729265549"
            ]
          },
          "metadata": {
            "tags": []
          },
          "execution_count": 11
        }
      ]
    },
    {
      "cell_type": "markdown",
      "metadata": {
        "id": "S0G5940oIay5"
      },
      "source": [
        "Измените функцию потерь и метрику для этой задачи. Постройте 10-15 вариантов и сведите результаты их работы в таблицу Опишите, какого результата вы добились от нейросети? Что помогло вам улучшить ее точность?"
      ]
    },
    {
      "cell_type": "code",
      "metadata": {
        "id": "dLGM3AvfMess"
      },
      "source": [
        "from tensorflow.keras.metrics import MeanAbsoluteError\n",
        "from tensorflow.keras.losses import MeanAbsoluteError\n",
        "from tensorflow.keras.metrics import MeanAbsolutePercentageError\n",
        "from tensorflow.keras.losses import MeanAbsolutePercentageError\n",
        "from tensorflow.keras.metrics import MeanAbsolutePercentageError\n",
        "import pandas as pd"
      ],
      "execution_count": 9,
      "outputs": []
    },
    {
      "cell_type": "code",
      "metadata": {
        "id": "C5mJrF6KMIQw"
      },
      "source": [
        "# при 300 модель переобучилась\n",
        "model4 = Sequential([\n",
        "    Dense(200, activation='relu', input_shape=(13,)),\n",
        "    Dense(200, activation='relu'),\n",
        "    Dense(1)])\n",
        "model4.compile(optimizer='adam', loss='MeanAbsoluteError', metrics='MeanAbsoluteError')\n",
        "history4 = model4.fit( X_train_n, y_train, epochs=50, batch_size=2, validation_split=0.2)"
      ],
      "execution_count": null,
      "outputs": []
    },
    {
      "cell_type": "code",
      "metadata": {
        "colab": {
          "base_uri": "https://localhost:8080/",
          "height": 295
        },
        "id": "MZZMrJb2MIgv",
        "outputId": "98c12850-d265-4aa2-c8ca-6948019596ca"
      },
      "source": [
        "plt.plot(history4.history['val_mean_absolute_error'] ,label='val')\n",
        "plt.plot(history4.history['mean_absolute_error'] ,label='train')\n",
        "plt.legend()\n",
        "plt.xlabel('epoch')\n",
        "plt.ylabel('accuracy')\n",
        "plt.title('точность сети от эпох')\n",
        "plt.show()"
      ],
      "execution_count": null,
      "outputs": [
        {
          "output_type": "display_data",
          "data": {
            "image/png": "[encoded data removed]",
            "text/plain": [
              "<Figure size 432x288 with 1 Axes>"
            ]
          },
          "metadata": {
            "tags": [],
            "needs_background": "light"
          }
        }
      ]
    },
    {
      "cell_type": "code",
      "metadata": {
        "colab": {
          "base_uri": "https://localhost:8080/"
        },
        "id": "r7OZQNkyIlod",
        "outputId": "1b4f0234-47ef-47f9-f1b1-7183ba07074f"
      },
      "source": [
        "test_predictions4 = model4.predict(X_test_n)\n",
        "mean_squared_error(y_test, test_predictions4)"
      ],
      "execution_count": null,
      "outputs": [
        {
          "output_type": "execute_result",
          "data": {
            "text/plain": [
              "17.006197204287908"
            ]
          },
          "metadata": {
            "tags": []
          },
          "execution_count": 58
        }
      ]
    },
    {
      "cell_type": "markdown",
      "metadata": {
        "id": "fc31d_xO873w"
      },
      "source": [
        "Для того, чтобы оценить работу сетей - посмотрим разные варианты \n",
        "Будем изменять функцию потерь, метрику, количество нейронов в слоях, а для того, чтобы сравнить результаты моделей с разными метриками будем использовать mse на тестовой выборке. каждую сеть обучим по 3 раза "
      ]
    },
    {
      "cell_type": "code",
      "metadata": {
        "id": "kKtXYq_bOEAo"
      },
      "source": [
        "nej = [30, 50, 100, 150, 200]\n",
        "loss_f = ['MeanAbsoluteError', 'mse', 'MeanAbsolutePercentageError']\n",
        "metr = ['MeanAbsoluteError', 'mse', 'MeanAbsolutePercentageError']\n",
        "k = 1\n",
        "df = pd.DataFrame(columns = ['нейроны 1 и 2 сл', 'loss', 'metric', 'mse test'])\n",
        "for l in loss_f:\n",
        "  for m in metr:\n",
        "    for n in nej:\n",
        "      for i in [0, 1, 2]:\n",
        "        model = Sequential([Dense(n, activation='relu', input_shape=(13,)),Dense(n, activation='relu'),Dense(1)])\n",
        "        model.compile(optimizer='adam', loss=l, metrics=m)\n",
        "        history = model.fit( X_train_n, y_train, epochs=50, batch_size=2, validation_split=0.2)\n",
        "        test_predictions = model.predict(X_test_n)\n",
        "        mse_test = mean_squared_error(y_test, test_predictions)\n",
        "        df.loc[k] = [n, l, m, mse_test]\n",
        "        k += 1\n",
        "        print(k)\n"
      ],
      "execution_count": null,
      "outputs": []
    },
    {
      "cell_type": "code",
      "metadata": {
        "colab": {
          "base_uri": "https://localhost:8080/",
          "height": 483
        },
        "id": "q1liyXwK2_Ff",
        "outputId": "4645c5e5-e3d6-4d44-f558-4fc746b8fff4"
      },
      "source": [
        "df[df['mse test']<18]"
      ],
      "execution_count": 14,
      "outputs": [
        {
          "output_type": "execute_result",
          "data": {
            "text/html": [
              "<div>\n",
              "<style scoped>\n",
              "    .dataframe tbody tr th:only-of-type {\n",
              "        vertical-align: middle;\n",
              "    }\n",
              "\n",
              "    .dataframe tbody tr th {\n",
              "        vertical-align: top;\n",
              "    }\n",
              "\n",
              "    .dataframe thead th {\n",
              "        text-align: right;\n",
              "    }\n",
              "</style>\n",
              "<table border=\"1\" class=\"dataframe\">\n",
              "  <thead>\n",
              "    <tr style=\"text-align: right;\">\n",
              "      <th></th>\n",
              "      <th>нейроны 1 и 2 сл</th>\n",
              "      <th>loss</th>\n",
              "      <th>metric</th>\n",
              "      <th>mse test</th>\n",
              "    </tr>\n",
              "  </thead>\n",
              "  <tbody>\n",
              "    <tr>\n",
              "      <th>11</th>\n",
              "      <td>150</td>\n",
              "      <td>MeanAbsoluteError</td>\n",
              "      <td>MeanAbsoluteError</td>\n",
              "      <td>17.573912</td>\n",
              "    </tr>\n",
              "    <tr>\n",
              "      <th>15</th>\n",
              "      <td>200</td>\n",
              "      <td>MeanAbsoluteError</td>\n",
              "      <td>MeanAbsoluteError</td>\n",
              "      <td>17.472681</td>\n",
              "    </tr>\n",
              "    <tr>\n",
              "      <th>27</th>\n",
              "      <td>150</td>\n",
              "      <td>MeanAbsoluteError</td>\n",
              "      <td>mse</td>\n",
              "      <td>17.622780</td>\n",
              "    </tr>\n",
              "    <tr>\n",
              "      <th>29</th>\n",
              "      <td>200</td>\n",
              "      <td>MeanAbsoluteError</td>\n",
              "      <td>mse</td>\n",
              "      <td>16.860584</td>\n",
              "    </tr>\n",
              "    <tr>\n",
              "      <th>30</th>\n",
              "      <td>200</td>\n",
              "      <td>MeanAbsoluteError</td>\n",
              "      <td>mse</td>\n",
              "      <td>17.521656</td>\n",
              "    </tr>\n",
              "    <tr>\n",
              "      <th>44</th>\n",
              "      <td>200</td>\n",
              "      <td>MeanAbsoluteError</td>\n",
              "      <td>MeanAbsolutePercentageError</td>\n",
              "      <td>17.174865</td>\n",
              "    </tr>\n",
              "    <tr>\n",
              "      <th>59</th>\n",
              "      <td>200</td>\n",
              "      <td>mse</td>\n",
              "      <td>MeanAbsoluteError</td>\n",
              "      <td>17.906354</td>\n",
              "    </tr>\n",
              "    <tr>\n",
              "      <th>60</th>\n",
              "      <td>200</td>\n",
              "      <td>mse</td>\n",
              "      <td>MeanAbsoluteError</td>\n",
              "      <td>17.477290</td>\n",
              "    </tr>\n",
              "    <tr>\n",
              "      <th>72</th>\n",
              "      <td>150</td>\n",
              "      <td>mse</td>\n",
              "      <td>mse</td>\n",
              "      <td>17.736863</td>\n",
              "    </tr>\n",
              "    <tr>\n",
              "      <th>73</th>\n",
              "      <td>200</td>\n",
              "      <td>mse</td>\n",
              "      <td>mse</td>\n",
              "      <td>17.923120</td>\n",
              "    </tr>\n",
              "    <tr>\n",
              "      <th>74</th>\n",
              "      <td>200</td>\n",
              "      <td>mse</td>\n",
              "      <td>mse</td>\n",
              "      <td>17.010842</td>\n",
              "    </tr>\n",
              "    <tr>\n",
              "      <th>75</th>\n",
              "      <td>200</td>\n",
              "      <td>mse</td>\n",
              "      <td>mse</td>\n",
              "      <td>16.912335</td>\n",
              "    </tr>\n",
              "    <tr>\n",
              "      <th>88</th>\n",
              "      <td>200</td>\n",
              "      <td>mse</td>\n",
              "      <td>MeanAbsolutePercentageError</td>\n",
              "      <td>17.672151</td>\n",
              "    </tr>\n",
              "    <tr>\n",
              "      <th>90</th>\n",
              "      <td>200</td>\n",
              "      <td>mse</td>\n",
              "      <td>MeanAbsolutePercentageError</td>\n",
              "      <td>17.072712</td>\n",
              "    </tr>\n",
              "  </tbody>\n",
              "</table>\n",
              "</div>"
            ],
            "text/plain": [
              "   нейроны 1 и 2 сл               loss                       metric   mse test\n",
              "11              150  MeanAbsoluteError            MeanAbsoluteError  17.573912\n",
              "15              200  MeanAbsoluteError            MeanAbsoluteError  17.472681\n",
              "27              150  MeanAbsoluteError                          mse  17.622780\n",
              "29              200  MeanAbsoluteError                          mse  16.860584\n",
              "30              200  MeanAbsoluteError                          mse  17.521656\n",
              "44              200  MeanAbsoluteError  MeanAbsolutePercentageError  17.174865\n",
              "59              200                mse            MeanAbsoluteError  17.906354\n",
              "60              200                mse            MeanAbsoluteError  17.477290\n",
              "72              150                mse                          mse  17.736863\n",
              "73              200                mse                          mse  17.923120\n",
              "74              200                mse                          mse  17.010842\n",
              "75              200                mse                          mse  16.912335\n",
              "88              200                mse  MeanAbsolutePercentageError  17.672151\n",
              "90              200                mse  MeanAbsolutePercentageError  17.072712"
            ]
          },
          "metadata": {
            "tags": []
          },
          "execution_count": 14
        }
      ]
    },
    {
      "cell_type": "markdown",
      "metadata": {
        "id": "DsBxRi-18iyf"
      },
      "source": [
        "Лучшие результаты показали модели с функциями потерь mse и mae.(mse на тестовой выборке от 16,5 до 18)\n",
        "Параметры следующие\n",
        "\n",
        "\n",
        "*   200 нейронов, loss = mse, metric = mse\n",
        "*   200 нейронов, loss = MeanAbsoluteError, metric = mse\n",
        "\n",
        "model = Sequential([Dense(n, activation='relu', input_shape=(13,)),Dense(n, activation='relu'),Dense(1)])\n",
        "history = model.fit( X_train_n, y_train, epochs=50, batch_size=2, validation_split=0.2)\n",
        "\n"
      ]
    }
  ]
}